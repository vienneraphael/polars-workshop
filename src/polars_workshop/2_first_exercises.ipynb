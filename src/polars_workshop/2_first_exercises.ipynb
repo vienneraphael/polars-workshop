{
 "cells": [
  {
   "cell_type": "markdown",
   "metadata": {},
   "source": [
    "# Exercises\n",
    "\n",
    "### Now let's get you familiar with polars on your own"
   ]
  },
  {
   "cell_type": "code",
   "execution_count": 155,
   "metadata": {},
   "outputs": [],
   "source": [
    "import polars as pl\n",
    "\n",
    "df_1_non_numerical = pl.read_parquet('spotify_tracks_1_non_numerical.parquet')\n",
    "df_1_numerical = pl.read_parquet('spotify_tracks_1_numerical.parquet')\n",
    "df_2_non_numerical = pl.read_parquet('spotify_tracks_2_non_numerical.parquet')\n",
    "df_2_numerical = pl.read_parquet('spotify_tracks_2_numerical.parquet')"
   ]
  },
  {
   "cell_type": "markdown",
   "metadata": {},
   "source": [
    "## Instructions\n",
    "\n",
    "### Gather all datasets using `join` and `concat`\n",
    "\n",
    "NOTE: https://www.rhosignal.com/posts/polars-extend-vstack/#pros-and-cons"
   ]
  },
  {
   "cell_type": "code",
   "execution_count": 1,
   "metadata": {},
   "outputs": [],
   "source": [
    "# TODO: gather all datasets together\n",
    "\n"
   ]
  },
  {
   "cell_type": "markdown",
   "metadata": {},
   "source": [
    "### Now using `group_by`, determine, for each artist:\n",
    "- average popularity\n",
    "- number of tracks\n",
    "- list of track names\n",
    "- whether he or she made at least one explicit song\n",
    "- the unique list of music genres this artist created tracks in.\n",
    "\n",
    "NOTE: be careful, sometimes two or more artists appear (featurings) and you should consider the first artist being the main one."
   ]
  },
  {
   "cell_type": "code",
   "execution_count": 2,
   "metadata": {},
   "outputs": [],
   "source": [
    "# TODO: do the aggregation\n"
   ]
  },
  {
   "cell_type": "markdown",
   "metadata": {},
   "source": [
    "### One last thing, a bit more challenging. \n",
    "\n",
    "### For each artist, determine the unique list of other artists he or she made a featuring with and the number of times he or she appears in a featuring. \n",
    "### Sort the results by artists having the most apparitions in other artists' tracks."
   ]
  },
  {
   "cell_type": "code",
   "execution_count": 4,
   "metadata": {},
   "outputs": [],
   "source": [
    "# TODO: feats exercise \n"
   ]
  },
  {
   "cell_type": "markdown",
   "metadata": {},
   "source": [
    "## Bonus: visualization (only downside of using polars)"
   ]
  },
  {
   "cell_type": "code",
   "execution_count": null,
   "metadata": {},
   "outputs": [],
   "source": [
    "# TODO: try to do a simple visualization (bar plot, scatter or pie chart) using polars and the hvplot backend\n",
    "# NOTE: see https://docs.pola.rs/user-guide/misc/visualization/"
   ]
  }
 ],
 "metadata": {
  "kernelspec": {
   "display_name": ".venv",
   "language": "python",
   "name": "python3"
  },
  "language_info": {
   "codemirror_mode": {
    "name": "ipython",
    "version": 3
   },
   "file_extension": ".py",
   "mimetype": "text/x-python",
   "name": "python",
   "nbconvert_exporter": "python",
   "pygments_lexer": "ipython3",
   "version": "3.12.4"
  }
 },
 "nbformat": 4,
 "nbformat_minor": 2
}
