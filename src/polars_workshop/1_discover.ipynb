{
 "cells": [
  {
   "cell_type": "markdown",
   "metadata": {},
   "source": [
    "# Exercise 1\n",
    "\n",
    "### In this first exercise, we will learn the **basics** of polars: let's start by loading a simple `DataFrame`.\n",
    "\n",
    "### All examples below come from the polars `Getting Started` section."
   ]
  },
  {
   "cell_type": "markdown",
   "metadata": {},
   "source": [
    "## Reading and Writing"
   ]
  },
  {
   "cell_type": "code",
   "execution_count": 52,
   "metadata": {},
   "outputs": [
    {
     "name": "stdout",
     "output_type": "stream",
     "text": [
      "shape: (3, 4)\n",
      "┌─────────┬────────────┬───────┬────────┐\n",
      "│ integer ┆ date       ┆ float ┆ string │\n",
      "│ ---     ┆ ---        ┆ ---   ┆ ---    │\n",
      "│ i64     ┆ date       ┆ f64   ┆ str    │\n",
      "╞═════════╪════════════╪═══════╪════════╡\n",
      "│ 1       ┆ 2025-01-01 ┆ 4.0   ┆ a      │\n",
      "│ 2       ┆ 2025-01-02 ┆ 5.0   ┆ b      │\n",
      "│ 3       ┆ 2025-01-03 ┆ 6.0   ┆ c      │\n",
      "└─────────┴────────────┴───────┴────────┘\n"
     ]
    }
   ],
   "source": [
    "import polars as pl\n",
    "from datetime import date, timedelta, datetime\n",
    "\n",
    "df = pl.DataFrame(\n",
    "    {\n",
    "        \"integer\": [1, 2, 3],\n",
    "        \"date\": [\n",
    "            date(2025, 1, 1),\n",
    "            date(2025, 1, 2),\n",
    "            date(2025\n",
    "            , 1, 3),\n",
    "        ],\n",
    "        \"float\": [4.0, 5.0, 6.0],\n",
    "        \"string\": [\"a\", \"b\", \"c\"],\n",
    "    }\n",
    ")\n",
    "\n",
    "print(df)"
   ]
  },
  {
   "cell_type": "markdown",
   "metadata": {},
   "source": [
    "### As you can see, `DataFrame` creation is quite similar to pandas.\n",
    "### Also, you can see that polars natively supports most python types and prints them with the table.\n",
    "### Now let's write this `DataFrame` to disk"
   ]
  },
  {
   "cell_type": "code",
   "execution_count": 23,
   "metadata": {},
   "outputs": [
    {
     "name": "stdout",
     "output_type": "stream",
     "text": [
      "shape: (3, 4)\n",
      "┌─────────┬────────────┬───────┬────────┐\n",
      "│ integer ┆ date       ┆ float ┆ string │\n",
      "│ ---     ┆ ---        ┆ ---   ┆ ---    │\n",
      "│ i64     ┆ str        ┆ f64   ┆ str    │\n",
      "╞═════════╪════════════╪═══════╪════════╡\n",
      "│ 1       ┆ 2025-01-01 ┆ 4.0   ┆ a      │\n",
      "│ 2       ┆ 2025-01-02 ┆ 5.0   ┆ b      │\n",
      "│ 3       ┆ 2025-01-03 ┆ 6.0   ┆ c      │\n",
      "└─────────┴────────────┴───────┴────────┘\n"
     ]
    }
   ],
   "source": [
    "df.write_csv(\"output.csv\")\n",
    "df = pl.read_csv(\"output.csv\")\n",
    "print(df)"
   ]
  },
  {
   "cell_type": "markdown",
   "metadata": {},
   "source": [
    "### As you can see, the date type format was lost when writing and re-opening the dataframe. Let's get it back in the next section: `Expressions`"
   ]
  },
  {
   "cell_type": "markdown",
   "metadata": {},
   "source": [
    "## `Expressions`"
   ]
  },
  {
   "cell_type": "markdown",
   "metadata": {},
   "source": [
    "`Expressions` are the core strength of Polars. The `expressions` offer a modular structure that allows you to combine simple concepts into complex queries. Below we cover the basic components that serve as building blocks (or in Polars terminology contexts) for all your queries:\n",
    "\n",
    "- `select` => select certain columns (can include a condition on name)\n",
    "- `filter` => filter rows based one or several conditions over the columns\n",
    "- `with_columns` => add new columns to the dataframe based on existing ones.\n",
    "- `group_by` => group rows by certain columns and aggregate them using any aggregation function (e.g. `sum`, `mean`) or used-defined aggregation (using `.agg`)\n",
    "\n",
    "`Note`: in polars there are no such things as a row index (like in pandas), but it's still possible to select certain rows by their index (e.g. `df[0]` or `df[a:b]`)"
   ]
  },
  {
   "cell_type": "markdown",
   "metadata": {},
   "source": [
    "## `with_columns`"
   ]
  },
  {
   "cell_type": "markdown",
   "metadata": {},
   "source": [
    "### Let's compute the date as datetime format using `with_columns` (creates a new column) and `Expressions` (e.g. `pl.col`)"
   ]
  },
  {
   "cell_type": "code",
   "execution_count": 24,
   "metadata": {},
   "outputs": [
    {
     "name": "stdout",
     "output_type": "stream",
     "text": [
      "shape: (3, 4)\n",
      "┌─────────┬────────────┬───────┬────────┐\n",
      "│ integer ┆ date       ┆ float ┆ string │\n",
      "│ ---     ┆ ---        ┆ ---   ┆ ---    │\n",
      "│ i64     ┆ date       ┆ f64   ┆ str    │\n",
      "╞═════════╪════════════╪═══════╪════════╡\n",
      "│ 1       ┆ 2025-01-01 ┆ 4.0   ┆ a      │\n",
      "│ 2       ┆ 2025-01-02 ┆ 5.0   ┆ b      │\n",
      "│ 3       ┆ 2025-01-03 ┆ 6.0   ┆ c      │\n",
      "└─────────┴────────────┴───────┴────────┘\n"
     ]
    }
   ],
   "source": [
    "df = df.with_columns(\n",
    "    pl.col('date').str.strptime(pl.Date, format='%Y-%m-%d')\n",
    ")\n",
    "print(df)"
   ]
  },
  {
   "cell_type": "markdown",
   "metadata": {},
   "source": [
    "### as you can see, the `date` column now is of type `date` instead of `str`, which means that we can apply transformations specific to the `dt` `namespace`.\n",
    "\n",
    "### In polars, we call a `namespace` any collection of methods that operate on a certain data type. For instance, we just used the `str` namespace in order to transform our `str` type date column into a `date` type date column using the `strptime` method that only applies to `str` data.\n",
    "\n",
    "### Now let's use the `dt` namespace (temporal data) and `with_columns` to add 5 business days to our `date` column.\n",
    "\n",
    "### For this one we will create a new column by chaining the `.name.suffix` method."
   ]
  },
  {
   "cell_type": "code",
   "execution_count": 53,
   "metadata": {},
   "outputs": [
    {
     "name": "stdout",
     "output_type": "stream",
     "text": [
      "shape: (3, 5)\n",
      "┌─────────┬────────────┬───────┬────────┬────────────────────────┐\n",
      "│ integer ┆ date       ┆ float ┆ string ┆ date_next_business_day │\n",
      "│ ---     ┆ ---        ┆ ---   ┆ ---    ┆ ---                    │\n",
      "│ i64     ┆ date       ┆ f64   ┆ str    ┆ date                   │\n",
      "╞═════════╪════════════╪═══════╪════════╪════════════════════════╡\n",
      "│ 1       ┆ 2025-01-01 ┆ 4.0   ┆ a      ┆ 2025-01-02             │\n",
      "│ 2       ┆ 2025-01-02 ┆ 5.0   ┆ b      ┆ 2025-01-03             │\n",
      "│ 3       ┆ 2025-01-03 ┆ 6.0   ┆ c      ┆ 2025-01-06             │\n",
      "└─────────┴────────────┴───────┴────────┴────────────────────────┘\n"
     ]
    }
   ],
   "source": [
    "df = df.with_columns(\n",
    "    pl.col('date').dt.add_business_days(n=1, roll='forward').name.suffix('_next_business_day')\n",
    ")\n",
    "print(df)"
   ]
  },
  {
   "cell_type": "markdown",
   "metadata": {},
   "source": [
    "### Another way to do that is to include the new column's name at the beginning"
   ]
  },
  {
   "cell_type": "code",
   "execution_count": 29,
   "metadata": {},
   "outputs": [
    {
     "name": "stdout",
     "output_type": "stream",
     "text": [
      "shape: (3, 5)\n",
      "┌─────────┬────────────┬───────┬────────┬────────────────────────┐\n",
      "│ integer ┆ date       ┆ float ┆ string ┆ date_next_business_day │\n",
      "│ ---     ┆ ---        ┆ ---   ┆ ---    ┆ ---                    │\n",
      "│ i64     ┆ date       ┆ f64   ┆ str    ┆ date                   │\n",
      "╞═════════╪════════════╪═══════╪════════╪════════════════════════╡\n",
      "│ 1       ┆ 2025-01-01 ┆ 4.0   ┆ a      ┆ 2025-01-02             │\n",
      "│ 2       ┆ 2025-01-02 ┆ 5.0   ┆ b      ┆ 2025-01-03             │\n",
      "│ 3       ┆ 2025-01-03 ┆ 6.0   ┆ c      ┆ 2025-01-06             │\n",
      "└─────────┴────────────┴───────┴────────┴────────────────────────┘\n"
     ]
    }
   ],
   "source": [
    "df = df.with_columns(\n",
    "    date_next_business_day=pl.col('date').dt.add_business_days(n=1, roll='forward')\n",
    ")\n",
    "print(df)"
   ]
  },
  {
   "cell_type": "markdown",
   "metadata": {},
   "source": [
    "## `select`\n",
    "\n",
    "### `select` can be used to select columns based on name conditions. Let's start by selecting all columns with `pl.col(*)`"
   ]
  },
  {
   "cell_type": "code",
   "execution_count": 27,
   "metadata": {},
   "outputs": [
    {
     "data": {
      "text/html": [
       "<div><style>\n",
       ".dataframe > thead > tr,\n",
       ".dataframe > tbody > tr {\n",
       "  text-align: right;\n",
       "  white-space: pre-wrap;\n",
       "}\n",
       "</style>\n",
       "<small>shape: (3, 5)</small><table border=\"1\" class=\"dataframe\"><thead><tr><th>integer</th><th>date</th><th>float</th><th>string</th><th>date_next_business_day</th></tr><tr><td>i64</td><td>date</td><td>f64</td><td>str</td><td>date</td></tr></thead><tbody><tr><td>1</td><td>2025-01-01</td><td>4.0</td><td>&quot;a&quot;</td><td>2025-01-02</td></tr><tr><td>2</td><td>2025-01-02</td><td>5.0</td><td>&quot;b&quot;</td><td>2025-01-03</td></tr><tr><td>3</td><td>2025-01-03</td><td>6.0</td><td>&quot;c&quot;</td><td>2025-01-06</td></tr></tbody></table></div>"
      ],
      "text/plain": [
       "shape: (3, 5)\n",
       "┌─────────┬────────────┬───────┬────────┬────────────────────────┐\n",
       "│ integer ┆ date       ┆ float ┆ string ┆ date_next_business_day │\n",
       "│ ---     ┆ ---        ┆ ---   ┆ ---    ┆ ---                    │\n",
       "│ i64     ┆ date       ┆ f64   ┆ str    ┆ date                   │\n",
       "╞═════════╪════════════╪═══════╪════════╪════════════════════════╡\n",
       "│ 1       ┆ 2025-01-01 ┆ 4.0   ┆ a      ┆ 2025-01-02             │\n",
       "│ 2       ┆ 2025-01-02 ┆ 5.0   ┆ b      ┆ 2025-01-03             │\n",
       "│ 3       ┆ 2025-01-03 ┆ 6.0   ┆ c      ┆ 2025-01-06             │\n",
       "└─────────┴────────────┴───────┴────────┴────────────────────────┘"
      ]
     },
     "execution_count": 27,
     "metadata": {},
     "output_type": "execute_result"
    }
   ],
   "source": [
    "df.select(\n",
    "    pl.col('*')\n",
    ")"
   ]
  },
  {
   "cell_type": "markdown",
   "metadata": {},
   "source": [
    "### Now let's select several columns"
   ]
  },
  {
   "cell_type": "code",
   "execution_count": 28,
   "metadata": {},
   "outputs": [
    {
     "data": {
      "text/html": [
       "<div><style>\n",
       ".dataframe > thead > tr,\n",
       ".dataframe > tbody > tr {\n",
       "  text-align: right;\n",
       "  white-space: pre-wrap;\n",
       "}\n",
       "</style>\n",
       "<small>shape: (3, 2)</small><table border=\"1\" class=\"dataframe\"><thead><tr><th>float</th><th>string</th></tr><tr><td>f64</td><td>str</td></tr></thead><tbody><tr><td>4.0</td><td>&quot;a&quot;</td></tr><tr><td>5.0</td><td>&quot;b&quot;</td></tr><tr><td>6.0</td><td>&quot;c&quot;</td></tr></tbody></table></div>"
      ],
      "text/plain": [
       "shape: (3, 2)\n",
       "┌───────┬────────┐\n",
       "│ float ┆ string │\n",
       "│ ---   ┆ ---    │\n",
       "│ f64   ┆ str    │\n",
       "╞═══════╪════════╡\n",
       "│ 4.0   ┆ a      │\n",
       "│ 5.0   ┆ b      │\n",
       "│ 6.0   ┆ c      │\n",
       "└───────┴────────┘"
      ]
     },
     "execution_count": 28,
     "metadata": {},
     "output_type": "execute_result"
    }
   ],
   "source": [
    "df.select(\n",
    "    pl.col('float', 'string')\n",
    ")"
   ]
  },
  {
   "cell_type": "markdown",
   "metadata": {},
   "source": [
    "### We can also select columns with a regex on name\n",
    "### In polars, regexes start with `^`, end with `$` and `*` are preceded by `.`."
   ]
  },
  {
   "cell_type": "code",
   "execution_count": 44,
   "metadata": {},
   "outputs": [
    {
     "data": {
      "text/html": [
       "<div><style>\n",
       ".dataframe > thead > tr,\n",
       ".dataframe > tbody > tr {\n",
       "  text-align: right;\n",
       "  white-space: pre-wrap;\n",
       "}\n",
       "</style>\n",
       "<small>shape: (3, 2)</small><table border=\"1\" class=\"dataframe\"><thead><tr><th>date</th><th>date_next_business_day</th></tr><tr><td>date</td><td>date</td></tr></thead><tbody><tr><td>2025-01-01</td><td>2025-01-02</td></tr><tr><td>2025-01-02</td><td>2025-01-03</td></tr><tr><td>2025-01-03</td><td>2025-01-06</td></tr></tbody></table></div>"
      ],
      "text/plain": [
       "shape: (3, 2)\n",
       "┌────────────┬────────────────────────┐\n",
       "│ date       ┆ date_next_business_day │\n",
       "│ ---        ┆ ---                    │\n",
       "│ date       ┆ date                   │\n",
       "╞════════════╪════════════════════════╡\n",
       "│ 2025-01-01 ┆ 2025-01-02             │\n",
       "│ 2025-01-02 ┆ 2025-01-03             │\n",
       "│ 2025-01-03 ┆ 2025-01-06             │\n",
       "└────────────┴────────────────────────┘"
      ]
     },
     "execution_count": 44,
     "metadata": {},
     "output_type": "execute_result"
    }
   ],
   "source": [
    "df.select(\n",
    "    pl.col('^.*date.*$')\n",
    ")"
   ]
  },
  {
   "cell_type": "markdown",
   "metadata": {},
   "source": [
    "## `filter`\n",
    "\n",
    "### Filters rows based on a condition."
   ]
  },
  {
   "cell_type": "code",
   "execution_count": 49,
   "metadata": {},
   "outputs": [
    {
     "data": {
      "text/html": [
       "<div><style>\n",
       ".dataframe > thead > tr,\n",
       ".dataframe > tbody > tr {\n",
       "  text-align: right;\n",
       "  white-space: pre-wrap;\n",
       "}\n",
       "</style>\n",
       "<small>shape: (1, 5)</small><table border=\"1\" class=\"dataframe\"><thead><tr><th>integer</th><th>date</th><th>float</th><th>string</th><th>date_next_business_day</th></tr><tr><td>i64</td><td>date</td><td>f64</td><td>str</td><td>date</td></tr></thead><tbody><tr><td>3</td><td>2025-01-03</td><td>6.0</td><td>&quot;c&quot;</td><td>2025-01-06</td></tr></tbody></table></div>"
      ],
      "text/plain": [
       "shape: (1, 5)\n",
       "┌─────────┬────────────┬───────┬────────┬────────────────────────┐\n",
       "│ integer ┆ date       ┆ float ┆ string ┆ date_next_business_day │\n",
       "│ ---     ┆ ---        ┆ ---   ┆ ---    ┆ ---                    │\n",
       "│ i64     ┆ date       ┆ f64   ┆ str    ┆ date                   │\n",
       "╞═════════╪════════════╪═══════╪════════╪════════════════════════╡\n",
       "│ 3       ┆ 2025-01-03 ┆ 6.0   ┆ c      ┆ 2025-01-06             │\n",
       "└─────────┴────────────┴───────┴────────┴────────────────────────┘"
      ]
     },
     "execution_count": 49,
     "metadata": {},
     "output_type": "execute_result"
    }
   ],
   "source": [
    "df.filter(\n",
    "    pl.col('string').str.contains('c'),\n",
    ")"
   ]
  },
  {
   "cell_type": "markdown",
   "metadata": {},
   "source": [
    "### Having multiple expressions inside a filter works as an `and` statement."
   ]
  },
  {
   "cell_type": "code",
   "execution_count": 56,
   "metadata": {},
   "outputs": [
    {
     "data": {
      "text/html": [
       "<div><style>\n",
       ".dataframe > thead > tr,\n",
       ".dataframe > tbody > tr {\n",
       "  text-align: right;\n",
       "  white-space: pre-wrap;\n",
       "}\n",
       "</style>\n",
       "<small>shape: (1, 5)</small><table border=\"1\" class=\"dataframe\"><thead><tr><th>integer</th><th>date</th><th>float</th><th>string</th><th>date_next_business_day</th></tr><tr><td>i64</td><td>date</td><td>f64</td><td>str</td><td>date</td></tr></thead><tbody><tr><td>2</td><td>2025-01-02</td><td>5.0</td><td>&quot;b&quot;</td><td>2025-01-03</td></tr></tbody></table></div>"
      ],
      "text/plain": [
       "shape: (1, 5)\n",
       "┌─────────┬────────────┬───────┬────────┬────────────────────────┐\n",
       "│ integer ┆ date       ┆ float ┆ string ┆ date_next_business_day │\n",
       "│ ---     ┆ ---        ┆ ---   ┆ ---    ┆ ---                    │\n",
       "│ i64     ┆ date       ┆ f64   ┆ str    ┆ date                   │\n",
       "╞═════════╪════════════╪═══════╪════════╪════════════════════════╡\n",
       "│ 2       ┆ 2025-01-02 ┆ 5.0   ┆ b      ┆ 2025-01-03             │\n",
       "└─────────┴────────────┴───────┴────────┴────────────────────────┘"
      ]
     },
     "execution_count": 56,
     "metadata": {},
     "output_type": "execute_result"
    }
   ],
   "source": [
    "df.filter(\n",
    "    pl.col('date').dt.offset_by('1d').eq(pl.col('date_next_business_day')),\n",
    "    pl.col('float') > 4.0,\n",
    ")"
   ]
  },
  {
   "cell_type": "markdown",
   "metadata": {},
   "source": [
    "## `group_by` and `agg`\n",
    "### as in pandas, `group_by` (notice the `_`) and `agg` allow to group based on variable value and perform an operation on said groups."
   ]
  },
  {
   "cell_type": "code",
   "execution_count": 59,
   "metadata": {},
   "outputs": [
    {
     "name": "stdout",
     "output_type": "stream",
     "text": [
      "shape: (3, 6)\n",
      "┌─────────┬────────────┬───────┬────────┬────────────────────────┬─────┐\n",
      "│ integer ┆ date       ┆ float ┆ string ┆ date_next_business_day ┆ id  │\n",
      "│ ---     ┆ ---        ┆ ---   ┆ ---    ┆ ---                    ┆ --- │\n",
      "│ i64     ┆ date       ┆ f64   ┆ str    ┆ date                   ┆ u8  │\n",
      "╞═════════╪════════════╪═══════╪════════╪════════════════════════╪═════╡\n",
      "│ 1       ┆ 2025-01-01 ┆ 4.0   ┆ a      ┆ 2025-01-02             ┆ 1   │\n",
      "│ 2       ┆ 2025-01-02 ┆ 5.0   ┆ b      ┆ 2025-01-03             ┆ 1   │\n",
      "│ 3       ┆ 2025-01-03 ┆ 6.0   ┆ c      ┆ 2025-01-06             ┆ 2   │\n",
      "└─────────┴────────────┴───────┴────────┴────────────────────────┴─────┘\n"
     ]
    }
   ],
   "source": [
    "# NOTE: polars allow you to choose unsigned int (positive integers, and precision according to your needs)\n",
    "\n",
    "df = df.with_columns(pl.Series('id', dtype=pl.UInt8, values=[1,1,2]))\n",
    "print(df)"
   ]
  },
  {
   "cell_type": "code",
   "execution_count": 66,
   "metadata": {},
   "outputs": [
    {
     "data": {
      "text/html": [
       "<div><style>\n",
       ".dataframe > thead > tr,\n",
       ".dataframe > tbody > tr {\n",
       "  text-align: right;\n",
       "  white-space: pre-wrap;\n",
       "}\n",
       "</style>\n",
       "<small>shape: (2, 5)</small><table border=\"1\" class=\"dataframe\"><thead><tr><th>id</th><th>strings_concatenated</th><th>float_mean</th><th>last_integer</th><th>first_date</th></tr><tr><td>u8</td><td>str</td><td>f64</td><td>i64</td><td>date</td></tr></thead><tbody><tr><td>2</td><td>&quot;c&quot;</td><td>6.0</td><td>3</td><td>2025-01-03</td></tr><tr><td>1</td><td>&quot;ab&quot;</td><td>4.5</td><td>2</td><td>2025-01-01</td></tr></tbody></table></div>"
      ],
      "text/plain": [
       "shape: (2, 5)\n",
       "┌─────┬──────────────────────┬────────────┬──────────────┬────────────┐\n",
       "│ id  ┆ strings_concatenated ┆ float_mean ┆ last_integer ┆ first_date │\n",
       "│ --- ┆ ---                  ┆ ---        ┆ ---          ┆ ---        │\n",
       "│ u8  ┆ str                  ┆ f64        ┆ i64          ┆ date       │\n",
       "╞═════╪══════════════════════╪════════════╪══════════════╪════════════╡\n",
       "│ 2   ┆ c                    ┆ 6.0        ┆ 3            ┆ 2025-01-03 │\n",
       "│ 1   ┆ ab                   ┆ 4.5        ┆ 2            ┆ 2025-01-01 │\n",
       "└─────┴──────────────────────┴────────────┴──────────────┴────────────┘"
      ]
     },
     "execution_count": 66,
     "metadata": {},
     "output_type": "execute_result"
    }
   ],
   "source": [
    "df.group_by('id').agg(\n",
    "    pl.col('string').str.concat(delimiter='').name.suffix('s_concatenated'),\n",
    "    pl.col('float').mean().name.suffix('_mean'),\n",
    "    pl.col('integer').last().name.prefix('last_'),\n",
    "    pl.col('date').min().name.prefix('first_'),\n",
    ")"
   ]
  },
  {
   "cell_type": "markdown",
   "metadata": {},
   "source": [
    "### Now let's move on to some **real** exercises!"
   ]
  },
  {
   "cell_type": "markdown",
   "metadata": {},
   "source": []
  }
 ],
 "metadata": {
  "kernelspec": {
   "display_name": ".venv",
   "language": "python",
   "name": "python3"
  },
  "language_info": {
   "codemirror_mode": {
    "name": "ipython",
    "version": 3
   },
   "file_extension": ".py",
   "mimetype": "text/x-python",
   "name": "python",
   "nbconvert_exporter": "python",
   "pygments_lexer": "ipython3",
   "version": "3.12.4"
  }
 },
 "nbformat": 4,
 "nbformat_minor": 2
}
